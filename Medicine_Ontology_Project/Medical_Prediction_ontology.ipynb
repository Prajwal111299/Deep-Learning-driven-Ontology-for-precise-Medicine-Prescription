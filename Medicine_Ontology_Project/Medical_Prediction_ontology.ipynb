{
  "nbformat": 4,
  "nbformat_minor": 0,
  "metadata": {
    "colab": {
      "provenance": []
    },
    "kernelspec": {
      "name": "python3",
      "display_name": "Python 3"
    },
    "language_info": {
      "name": "python"
    }
  },
  "cells": [
    {
      "cell_type": "code",
      "execution_count": null,
      "metadata": {
        "colab": {
          "base_uri": "https://localhost:8080/"
        },
        "id": "a0BPX3-X0R_l",
        "outputId": "02971c2a-31bb-478a-b147-1e316b0bf28b"
      },
      "outputs": [
        {
          "output_type": "stream",
          "name": "stdout",
          "text": [
            "Requirement already satisfied: rdflib in /usr/local/lib/python3.10/dist-packages (7.0.0)\n",
            "Requirement already satisfied: isodate<0.7.0,>=0.6.0 in /usr/local/lib/python3.10/dist-packages (from rdflib) (0.6.1)\n",
            "Requirement already satisfied: pyparsing<4,>=2.1.0 in /usr/local/lib/python3.10/dist-packages (from rdflib) (3.1.1)\n",
            "Requirement already satisfied: six in /usr/local/lib/python3.10/dist-packages (from isodate<0.7.0,>=0.6.0->rdflib) (1.16.0)\n"
          ]
        }
      ],
      "source": [
        "!pip install rdflib\n",
        "import pandas as pd\n",
        "import tensorflow as tf\n",
        "import numpy as np\n",
        "from tensorflow.keras.preprocessing.text import Tokenizer\n",
        "from tensorflow.keras.preprocessing.sequence import pad_sequences\n",
        "from rdflib import Graph, Namespace, Literal, RDF, URIRef\n",
        "from sklearn.preprocessing import LabelEncoder"
      ]
    },
    {
      "cell_type": "code",
      "source": [
        "# Load the dataset from CSV\n",
        "df = pd.read_excel('/content/Medicine_description.xlsx')\n",
        "# Fill NaN values with an empty string or any suitable placeholder\n",
        "df = df.fillna('')"
      ],
      "metadata": {
        "id": "szJJ8kWZ0uM6"
      },
      "execution_count": null,
      "outputs": []
    },
    {
      "cell_type": "code",
      "source": [
        "# Preprocess the data\n",
        "tokenizer = Tokenizer()\n",
        "tokenizer.fit_on_texts(df['Drug_Name'] + ' ' + df['Reason'] + ' ' + df['Description'])\n",
        "total_words = len(tokenizer.word_index) + 1\n",
        "\n",
        "input_sequences = tokenizer.texts_to_sequences(df['Drug_Name'] + ' ' + df['Reason'] + ' ' + df['Description'])\n",
        "max_sequence_len = max(len(seq) for seq in input_sequences)\n",
        "input_sequences = pad_sequences(input_sequences, maxlen=max_sequence_len, padding='post')"
      ],
      "metadata": {
        "id": "L-1Ygu4200Ca"
      },
      "execution_count": null,
      "outputs": []
    },
    {
      "cell_type": "code",
      "source": [
        "# Convert string labels to integers using LabelEncoder\n",
        "label_encoder = LabelEncoder()\n",
        "df['Drug_Name'] = label_encoder.fit_transform(df['Drug_Name'])\n",
        "\n",
        "# Create the ontology\n",
        "onto = Graph()\n",
        "onto_namespace = Namespace(\"http://example.org/\")\n",
        "\n",
        "# Define ontology classes and properties\n",
        "onto.add((onto_namespace.Medicine, RDF.type, URIRef(\"owl:Class\")))\n",
        "onto.add((onto_namespace.hasName, RDF.type, URIRef(\"owl:ObjectProperty\")))\n",
        "onto.add((onto_namespace.hasSymptoms, RDF.type, URIRef(\"owl:ObjectProperty\")))\n",
        "onto.add((onto_namespace.hasCauses, RDF.type, URIRef(\"owl:ObjectProperty\")))\n",
        "onto.add((onto_namespace.hasDisease, RDF.type, URIRef(\"owl:ObjectProperty\")))"
      ],
      "metadata": {
        "colab": {
          "base_uri": "https://localhost:8080/"
        },
        "id": "Sl5ssubm07HY",
        "outputId": "6b3bc6f8-eb8c-4436-8571-64389d9bf423"
      },
      "execution_count": null,
      "outputs": [
        {
          "output_type": "execute_result",
          "data": {
            "text/plain": [
              "<Graph identifier=Nacb463e3548c402cae8bdc8864e26de0 (<class 'rdflib.graph.Graph'>)>"
            ]
          },
          "metadata": {},
          "execution_count": 9
        }
      ]
    },
    {
      "cell_type": "code",
      "source": [
        "# Populate ontology with data\n",
        "for index, row in df.iterrows():\n",
        "    medicine_uri = onto_namespace[row['Drug_Name']]\n",
        "    onto.add((medicine_uri, RDF.type, onto_namespace.Medicine))\n",
        "    onto.add((medicine_uri, onto_namespace.hasName, Literal(row['Drug_Name'])))\n",
        "    onto.add((medicine_uri, onto_namespace.hasSymptoms, Literal(row['Drug_Name'])))\n",
        "    onto.add((medicine_uri, onto_namespace.hasCauses, Literal(row['Reason'])))\n",
        "    onto.add((medicine_uri, onto_namespace.hasDisease, Literal(row['Description'])))"
      ],
      "metadata": {
        "id": "ud8JTO6p0_7E"
      },
      "execution_count": null,
      "outputs": []
    },
    {
      "cell_type": "code",
      "source": [
        "# Define the deep learning model\n",
        "model = tf.keras.Sequential([\n",
        "    tf.keras.layers.Embedding(total_words, 100, input_length=max_sequence_len),\n",
        "    tf.keras.layers.Flatten(),\n",
        "    tf.keras.layers.Dense(128, activation='relu'),\n",
        "    tf.keras.layers.Dense(total_words, activation='softmax')\n",
        "])\n",
        "\n",
        "model.compile(optimizer='adam', loss='sparse_categorical_crossentropy', metrics=['accuracy'])"
      ],
      "metadata": {
        "id": "MkO-aqWn1Tu7"
      },
      "execution_count": null,
      "outputs": []
    },
    {
      "cell_type": "code",
      "source": [
        "# Train the model\n",
        "model.fit(input_sequences, df['Drug_Name'], epochs=10)"
      ],
      "metadata": {
        "colab": {
          "base_uri": "https://localhost:8080/"
        },
        "id": "5F4k9SQU1W2A",
        "outputId": "db644612-dcfd-4b0a-ba79-76c6056300e0"
      },
      "execution_count": null,
      "outputs": [
        {
          "output_type": "stream",
          "name": "stdout",
          "text": [
            "Epoch 1/10\n",
            "703/703 [==============================] - 86s 123ms/step - loss: 10.2498 - accuracy: 4.4482e-05\n",
            "Epoch 2/10\n",
            "703/703 [==============================] - 84s 120ms/step - loss: 10.0587 - accuracy: 2.2241e-04\n",
            "Epoch 3/10\n",
            "703/703 [==============================] - 90s 128ms/step - loss: 9.1120 - accuracy: 0.0031\n",
            "Epoch 4/10\n",
            "703/703 [==============================] - 86s 122ms/step - loss: 6.5268 - accuracy: 0.0502\n",
            "Epoch 5/10\n",
            "703/703 [==============================] - 84s 119ms/step - loss: 3.5572 - accuracy: 0.2772\n",
            "Epoch 6/10\n",
            "703/703 [==============================] - 84s 119ms/step - loss: 1.6367 - accuracy: 0.6065\n",
            "Epoch 7/10\n",
            "703/703 [==============================] - 85s 121ms/step - loss: 0.7000 - accuracy: 0.8290\n",
            "Epoch 8/10\n",
            "703/703 [==============================] - 87s 123ms/step - loss: 0.2868 - accuracy: 0.9373\n",
            "Epoch 9/10\n",
            "703/703 [==============================] - 85s 120ms/step - loss: 0.1168 - accuracy: 0.9777\n",
            "Epoch 10/10\n",
            "703/703 [==============================] - 86s 122ms/step - loss: 0.0510 - accuracy: 0.9912\n"
          ]
        },
        {
          "output_type": "execute_result",
          "data": {
            "text/plain": [
              "<keras.src.callbacks.History at 0x7dcc449b5450>"
            ]
          },
          "metadata": {},
          "execution_count": 14
        }
      ]
    },
    {
      "cell_type": "code",
      "source": [
        "# Save the ontology to a file\n",
        "onto.serialize('/content/medicine_prescription.owl', format='turtle')"
      ],
      "metadata": {
        "colab": {
          "base_uri": "https://localhost:8080/"
        },
        "id": "IsSmB2IGYRQT",
        "outputId": "de750ab1-c8c3-45e8-f2d7-daa54b149ecd"
      },
      "execution_count": null,
      "outputs": [
        {
          "output_type": "execute_result",
          "data": {
            "text/plain": [
              "<Graph identifier=Nacb463e3548c402cae8bdc8864e26de0 (<class 'rdflib.graph.Graph'>)>"
            ]
          },
          "metadata": {},
          "execution_count": 15
        }
      ]
    },
    {
      "cell_type": "code",
      "source": [
        "# Convert string labels to integers using LabelEncoder\n",
        "label_encoder = LabelEncoder()\n",
        "df['Drug_Name'] = label_encoder.fit_transform(df['Drug_Name'])\n",
        "\n",
        "# Define the deep learning model\n",
        "model = tf.keras.Sequential([\n",
        "    tf.keras.layers.Embedding(total_words, 100, input_length=max_sequence_len),\n",
        "    tf.keras.layers.Flatten(),\n",
        "    tf.keras.layers.Dense(128, activation='relu'),\n",
        "    tf.keras.layers.Dense(total_words, activation='softmax')\n",
        "])\n",
        "\n",
        "model.compile(optimizer='adam', loss='sparse_categorical_crossentropy', metrics=['accuracy'])"
      ],
      "metadata": {
        "id": "66OT0CZiYv14"
      },
      "execution_count": null,
      "outputs": []
    },
    {
      "cell_type": "code",
      "source": [
        "# Train the model\n",
        "model.fit(input_sequences, df['Drug_Name'], epochs=10)"
      ],
      "metadata": {
        "colab": {
          "base_uri": "https://localhost:8080/"
        },
        "id": "FNSwJXb6Y26Z",
        "outputId": "c191d568-e6f7-41eb-da50-b26148cf621c"
      },
      "execution_count": null,
      "outputs": [
        {
          "output_type": "stream",
          "name": "stdout",
          "text": [
            "Epoch 1/10\n",
            "703/703 [==============================] - 92s 130ms/step - loss: 10.2645 - accuracy: 4.4482e-05\n",
            "Epoch 2/10\n",
            "703/703 [==============================] - 88s 125ms/step - loss: 10.0419 - accuracy: 1.7793e-04\n",
            "Epoch 3/10\n",
            "703/703 [==============================] - 84s 120ms/step - loss: 9.2675 - accuracy: 0.0020\n",
            "Epoch 4/10\n",
            "703/703 [==============================] - 84s 120ms/step - loss: 6.9303 - accuracy: 0.0331\n",
            "Epoch 5/10\n",
            "703/703 [==============================] - 84s 120ms/step - loss: 3.7971 - accuracy: 0.2394\n",
            "Epoch 6/10\n",
            "703/703 [==============================] - 85s 121ms/step - loss: 1.5940 - accuracy: 0.6065\n",
            "Epoch 7/10\n",
            "703/703 [==============================] - 84s 119ms/step - loss: 0.6130 - accuracy: 0.8530\n",
            "Epoch 8/10\n",
            "703/703 [==============================] - 84s 120ms/step - loss: 0.2337 - accuracy: 0.9516\n",
            "Epoch 9/10\n",
            "703/703 [==============================] - 84s 120ms/step - loss: 0.0908 - accuracy: 0.9847\n",
            "Epoch 10/10\n",
            "703/703 [==============================] - 83s 118ms/step - loss: 0.0414 - accuracy: 0.9934\n"
          ]
        },
        {
          "output_type": "execute_result",
          "data": {
            "text/plain": [
              "<keras.src.callbacks.History at 0x7dcc3e516650>"
            ]
          },
          "metadata": {},
          "execution_count": 18
        }
      ]
    },
    {
      "cell_type": "code",
      "source": [
        "# Function to predict medicine for a given disease\n",
        "def predict_medicine(Description):\n",
        "    # Preprocess the input disease\n",
        "    input_text = tokenizer.texts_to_sequences([Description])\n",
        "    padded_input = pad_sequences(input_text, maxlen=max_sequence_len, padding='post')\n",
        "\n",
        "    # Make prediction\n",
        "    prediction = model.predict(padded_input)\n",
        "    predicted_class = np.argmax(prediction)\n",
        "\n",
        "    # Convert predicted class back to original medicine name using inverse transform\n",
        "    predicted_medicine = label_encoder.inverse_transform([predicted_class])[0]\n",
        "\n",
        "    return predicted_medicine\n",
        "\n",
        "# Example usage\n",
        "input_disease = \"Acne\"  # Replace with the actual disease input\n",
        "predicted_medicine = predict_medicine(input_disease)\n",
        "print(f\"For the disease '{input_disease}', the predicted medicine is: {predicted_medicine}\")"
      ],
      "metadata": {
        "colab": {
          "base_uri": "https://localhost:8080/"
        },
        "id": "OOotafrrY8rU",
        "outputId": "470c85a7-f623-4c2d-bb05-08d76b9a33f4"
      },
      "execution_count": null,
      "outputs": [
        {
          "output_type": "stream",
          "name": "stdout",
          "text": [
            "1/1 [==============================] - 0s 23ms/step\n",
            "For the disease 'Acne', the predicted medicine is: 16961\n"
          ]
        }
      ]
    }
  ]
}